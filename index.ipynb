{
 "cells": [
  {
   "cell_type": "markdown",
   "metadata": {},
   "source": [
    "# SQL Interview Questions - Lab\n",
    "\n",
    "## Introduction\n",
    "\n",
    "In this lab, we'll test our SQL skills against some real-world interview questions from major companies!\n",
    "\n",
    "## Objectives\n",
    "\n",
    "You will be able to:\n",
    "\n",
    "* Write SQL queries to filter and order results\n",
    "* Decide and perform whichever type of join is best for retrieving desired data\n",
    "* Write subqueries to decompose complex queries\n",
    "\n",
    "## Getting Started\n",
    "\n",
    "In this lab, we'll see four different interview questions that test your SQL knowledge. We didn't write these questions -- instead, we found them out in the real-world. These are questions that have been used in the past by major technology companies such as Facebook, Amazon, and Twitter. Our goal here isn't to memorize the questions or anything like that -- after all, it's extremely unlikely that these questions are still in use, now that they've become publicly available on the interwebs. Instead, our goal is to treat these questions as if they are the real thing, and give us some insight into the types of questions we'll need to be able to answer in order pass an interview involving SQL. \n",
    "\n",
    "If these questions seem hard to you, don't sweat it, they're supposed to be tough! These are meant to help you identify any areas of knowledge where you still need to grow! Use these questions as a way to see where your SQL knowledge is strong, and where it's a bit weak. Then, go study and **practice** in the areas where you still need work!\n",
    "\n",
    "### A Note on Answering These Questions\n",
    "\n",
    "Since these are interview questions, they'll almost always be posed as hypotheticals. This means that you won't have a real database to work with and test your code on. This also means that there are multiple different solutions to any given problem listed here. Be sure to doublecheck the code you write for bugs and errors. It's much harder to write bug-free code when you aren't able to test it against a database!\n",
    "\n",
    "If these questions seem hard, that's normal. These are real questions that have been reported to online forums from job seekers at major companies. Obviously, it's unlikely that they're still in use at these companies, but they still represent a great way for us to test our skills against the kinds of questions we can expect to be asked in an interview!\n",
    "\n",
    "## Question 1\n",
    "\n",
    "From Facebook:\n",
    "\n",
    "Assume we have a table of employee information, which includes salary information. Write a query to find the names and salaries of the top 5 highest paid employees, in descending order."
   ]
  },
  {
   "cell_type": "code",
   "execution_count": 2,
   "metadata": {},
   "outputs": [],
   "source": [
    "import sqlite3 as sql3\n",
    "cnx = sql3.connect(\"q1.db\")\n",
    "cur = cnx.cursor()\n",
    "import pandas as pd\n",
    "conn = sql3.connect(\"q2.db\")\n",
    "cursor = conn.cursor()"
   ]
  },
  {
   "cell_type": "code",
   "execution_count": 3,
   "metadata": {},
   "outputs": [],
   "source": [
    "name_and_pay = [{'name':'John','pay':60000},\n",
    "          {'name':'Miriam','pay':85000},\n",
    "          {'name':'Jennifer','pay':42000},\n",
    "          {'name':'Lucas','pay':51000},\n",
    "          {'name':'Dwayne','pay':38000},\n",
    "          {'name':'Stanley','pay':60500}]"
   ]
  },
  {
   "cell_type": "code",
   "execution_count": 22,
   "metadata": {},
   "outputs": [
    {
     "ename": "OperationalError",
     "evalue": "table employeePay already exists",
     "output_type": "error",
     "traceback": [
      "\u001b[0;31m---------------------------------------------------------------------------\u001b[0m",
      "\u001b[0;31mOperationalError\u001b[0m                          Traceback (most recent call last)",
      "\u001b[0;32m<ipython-input-22-0c14b3feeb4d>\u001b[0m in \u001b[0;36m<module>\u001b[0;34m\u001b[0m\n\u001b[1;32m      2\u001b[0m                                 \u001b[0mid\u001b[0m \u001b[0mINTEGER\u001b[0m \u001b[0mPRIMARY\u001b[0m \u001b[0mKEY\u001b[0m\u001b[0;34m,\u001b[0m\u001b[0;34m\u001b[0m\u001b[0;34m\u001b[0m\u001b[0m\n\u001b[1;32m      3\u001b[0m                                 \u001b[0mname\u001b[0m \u001b[0mTEXT\u001b[0m\u001b[0;34m,\u001b[0m\u001b[0;34m\u001b[0m\u001b[0;34m\u001b[0m\u001b[0m\n\u001b[0;32m----> 4\u001b[0;31m                                 pay INTEGER)\"\"\")\n\u001b[0m",
      "\u001b[0;31mOperationalError\u001b[0m: table employeePay already exists"
     ]
    }
   ],
   "source": [
    "cursor.execute(\"\"\"CREATE TABLE employeePay (\n",
    "                                id INTEGER PRIMARY KEY,\n",
    "                                name TEXT,\n",
    "                                pay INTEGER)\"\"\")\n"
   ]
  },
  {
   "cell_type": "code",
   "execution_count": 24,
   "metadata": {},
   "outputs": [
    {
     "ename": "TypeError",
     "evalue": "list indices must be integers or slices, not str",
     "output_type": "error",
     "traceback": [
      "\u001b[0;31m---------------------------------------------------------------------------\u001b[0m",
      "\u001b[0;31mTypeError\u001b[0m                                 Traceback (most recent call last)",
      "\u001b[0;32m<ipython-input-24-c373effb9917>\u001b[0m in \u001b[0;36m<module>\u001b[0;34m\u001b[0m\n\u001b[1;32m      2\u001b[0m     cursor.execute(\"\"\"INSERT INTO employeePay (name , pay) \n\u001b[1;32m      3\u001b[0m                   \u001b[0mVALUES\u001b[0m \u001b[0;34m(\u001b[0m\u001b[0;34m'{}'\u001b[0m\u001b[0;34m,\u001b[0m\u001b[0;34m{\u001b[0m\u001b[0;34m}\u001b[0m\u001b[0;34m)\u001b[0m\u001b[0;34m;\u001b[0m\u001b[0;34m\u001b[0m\u001b[0;34m\u001b[0m\u001b[0m\n\u001b[0;32m----> 4\u001b[0;31m             \"\"\".format(name_and_pay['name'],name_and_pay['pay']))\n\u001b[0m",
      "\u001b[0;31mTypeError\u001b[0m: list indices must be integers or slices, not str"
     ]
    }
   ],
   "source": [
    "for name in name_and_pay:\n",
    "    cursor.execute(\"\"\"INSERT INTO employeePay (name , pay) \n",
    "                  VALUES ('{}','{}');\n",
    "            \"\"\".format(name_and_pay['name'],name_and_pay['pay']))"
   ]
  },
  {
   "cell_type": "code",
   "execution_count": 23,
   "metadata": {},
   "outputs": [
    {
     "ename": "OperationalError",
     "evalue": "no such column: book_1",
     "output_type": "error",
     "traceback": [
      "\u001b[0;31m---------------------------------------------------------------------------\u001b[0m",
      "\u001b[0;31mOperationalError\u001b[0m                          Traceback (most recent call last)",
      "\u001b[0;32m<ipython-input-23-9ae46e5f2ec1>\u001b[0m in \u001b[0;36m<module>\u001b[0;34m\u001b[0m\n\u001b[1;32m      8\u001b[0m     cur.execute(\"\"\"INSERT INTO authors (author_name , book_name) \n\u001b[1;32m      9\u001b[0m                   \u001b[0mVALUES\u001b[0m \u001b[0;34m(\u001b[0m\u001b[0;34m'{}'\u001b[0m\u001b[0;34m,\u001b[0m\u001b[0;34m{\u001b[0m\u001b[0;34m}\u001b[0m\u001b[0;34m)\u001b[0m\u001b[0;34m;\u001b[0m\u001b[0;34m\u001b[0m\u001b[0;34m\u001b[0m\u001b[0m\n\u001b[0;32m---> 10\u001b[0;31m             \"\"\".format(record['author_name'],record['book_name']))\n\u001b[0m\u001b[1;32m     11\u001b[0m \u001b[0;34m\u001b[0m\u001b[0m\n",
      "\u001b[0;31mOperationalError\u001b[0m: no such column: book_1"
     ]
    }
   ],
   "source": [
    "records = [{'author_name':'author_1','book_name':'book_1'},\n",
    "          {'author_name':'author_1','book_name':'book_2'},\n",
    "          {'author_name':'author_2','book_name':'book_3'},\n",
    "          {'author_name':'author_2','book_name':'book_4'},\n",
    "          {'author_name':'author_3','book_name':'book_5'},\n",
    "          {'author_name':'author_3','book_name':'book_6'}]\n",
    "for record in records:\n",
    "    cur.execute(\"\"\"INSERT INTO authors (author_name , book_name) \n",
    "                  VALUES ('{}','{}');\n",
    "            \"\"\".format(record['author_name'],record['book_name']))\n",
    "                "
   ]
  },
  {
   "cell_type": "code",
   "execution_count": 6,
   "metadata": {},
   "outputs": [],
   "source": [
    "records = [{'book_name':'book_1','copies_sold':10000},\n",
    "          {'book_name':'book_2','copies_sold':2575},\n",
    "          {'book_name':'book_3','copies_sold':60000},\n",
    "          {'book_name':'book_4','copies_sold':98000},\n",
    "          {'book_name':'book_5','copies_sold':5250},\n",
    "          {'book_name':'book_6','copies_sold':19775}]\n",
    "for record in records:\n",
    "    cur.execute(\"\"\"INSERT INTO books (book_name , copies_sold) \n",
    "                  VALUES ('{}','{}');\n",
    "            \"\"\".format(record['book_name'],record['copies_sold']))"
   ]
  },
  {
   "cell_type": "code",
   "execution_count": 5,
   "metadata": {},
   "outputs": [
    {
     "data": {
      "text/plain": [
       "[]"
      ]
     },
     "execution_count": 5,
     "metadata": {},
     "output_type": "execute_result"
    }
   ],
   "source": [
    "cur.execute(\"\"\"SELECT * FROM books;\"\"\").fetchall()"
   ]
  },
  {
   "cell_type": "code",
   "execution_count": 28,
   "metadata": {},
   "outputs": [],
   "source": [
    "q = \"\"\"SELECT name, salary\n",
    "        FROM table\n",
    "        ORDER BY salary DESC\n",
    "        LIMIT 5\"\"\""
   ]
  },
  {
   "cell_type": "markdown",
   "metadata": {},
   "source": [
    "## Question 2\n",
    "\n",
    "From Amazon:\n",
    "\n",
    "Assume we have two SQL tables: `authors` and `books`. The authors table has a few million rows, and looks like this: \n",
    "\n",
    "| author_name | book_name |\n",
    "|:-----------:|:---------:|\n",
    "|   author_1  |   book_1  |\n",
    "|   author_1  |   book_2  |\n",
    "|   author_2  |   book_3  |\n",
    "|   author_2  |   book_4  |\n",
    "|   author_2  |   book_5  |\n",
    "|   author_3  |   book_6  |\n",
    "\n",
    "The books dataset also has a few million rows, and looks like this:\n",
    "\n",
    "| book_name | copies_sold |\n",
    "|:---------:|:-----------:|\n",
    "|   book_1  |    10000    |\n",
    "|   book_2  |     2575    |\n",
    "|   book_3  |    60000    |\n",
    "|   book_4  |    98000    |\n",
    "|   book_5  |     5250    |\n",
    "|   book_6  |    19775    |\n",
    "\n",
    "Write an SQL query that shows the top 3 authors who sold the most total books. "
   ]
  },
  {
   "cell_type": "code",
   "execution_count": 12,
   "metadata": {},
   "outputs": [
    {
     "ename": "DatabaseError",
     "evalue": "Execution failed on sql 'SELECT author, total_books_sold\n        FROM authors\n        JOIN books\n            USING(book_name)\n            GROUP BY author\n            SUM(copies_sold) as total_books_sold\n            ORDER BY total_books_sold DESC\n            LIMIT 3': near \"SUM\": syntax error",
     "output_type": "error",
     "traceback": [
      "\u001b[0;31m---------------------------------------------------------------------------\u001b[0m",
      "\u001b[0;31mOperationalError\u001b[0m                          Traceback (most recent call last)",
      "\u001b[0;32m/Library/Frameworks/Python.framework/Versions/3.7/lib/python3.7/site-packages/pandas/io/sql.py\u001b[0m in \u001b[0;36mexecute\u001b[0;34m(self, *args, **kwargs)\u001b[0m\n\u001b[1;32m   1696\u001b[0m         \u001b[0;32mtry\u001b[0m\u001b[0;34m:\u001b[0m\u001b[0;34m\u001b[0m\u001b[0;34m\u001b[0m\u001b[0m\n\u001b[0;32m-> 1697\u001b[0;31m             \u001b[0mcur\u001b[0m\u001b[0;34m.\u001b[0m\u001b[0mexecute\u001b[0m\u001b[0;34m(\u001b[0m\u001b[0;34m*\u001b[0m\u001b[0margs\u001b[0m\u001b[0;34m,\u001b[0m \u001b[0;34m**\u001b[0m\u001b[0mkwargs\u001b[0m\u001b[0;34m)\u001b[0m\u001b[0;34m\u001b[0m\u001b[0;34m\u001b[0m\u001b[0m\n\u001b[0m\u001b[1;32m   1698\u001b[0m             \u001b[0;32mreturn\u001b[0m \u001b[0mcur\u001b[0m\u001b[0;34m\u001b[0m\u001b[0;34m\u001b[0m\u001b[0m\n",
      "\u001b[0;31mOperationalError\u001b[0m: near \"SUM\": syntax error",
      "\nThe above exception was the direct cause of the following exception:\n",
      "\u001b[0;31mDatabaseError\u001b[0m                             Traceback (most recent call last)",
      "\u001b[0;32m<ipython-input-12-4778e1b7575b>\u001b[0m in \u001b[0;36m<module>\u001b[0;34m\u001b[0m\n\u001b[1;32m      7\u001b[0m             \u001b[0mORDER\u001b[0m \u001b[0mBY\u001b[0m \u001b[0mtotal_books_sold\u001b[0m \u001b[0mDESC\u001b[0m\u001b[0;34m\u001b[0m\u001b[0;34m\u001b[0m\u001b[0m\n\u001b[1;32m      8\u001b[0m             LIMIT 3\"\"\"\n\u001b[0;32m----> 9\u001b[0;31m \u001b[0mpd\u001b[0m\u001b[0;34m.\u001b[0m\u001b[0mread_sql\u001b[0m\u001b[0;34m(\u001b[0m\u001b[0mq\u001b[0m\u001b[0;34m,\u001b[0m\u001b[0mcnx\u001b[0m\u001b[0;34m)\u001b[0m\u001b[0;34m\u001b[0m\u001b[0;34m\u001b[0m\u001b[0m\n\u001b[0m",
      "\u001b[0;32m/Library/Frameworks/Python.framework/Versions/3.7/lib/python3.7/site-packages/pandas/io/sql.py\u001b[0m in \u001b[0;36mread_sql\u001b[0;34m(sql, con, index_col, coerce_float, params, parse_dates, columns, chunksize)\u001b[0m\n\u001b[1;32m    488\u001b[0m             \u001b[0mcoerce_float\u001b[0m\u001b[0;34m=\u001b[0m\u001b[0mcoerce_float\u001b[0m\u001b[0;34m,\u001b[0m\u001b[0;34m\u001b[0m\u001b[0;34m\u001b[0m\u001b[0m\n\u001b[1;32m    489\u001b[0m             \u001b[0mparse_dates\u001b[0m\u001b[0;34m=\u001b[0m\u001b[0mparse_dates\u001b[0m\u001b[0;34m,\u001b[0m\u001b[0;34m\u001b[0m\u001b[0;34m\u001b[0m\u001b[0m\n\u001b[0;32m--> 490\u001b[0;31m             \u001b[0mchunksize\u001b[0m\u001b[0;34m=\u001b[0m\u001b[0mchunksize\u001b[0m\u001b[0;34m,\u001b[0m\u001b[0;34m\u001b[0m\u001b[0;34m\u001b[0m\u001b[0m\n\u001b[0m\u001b[1;32m    491\u001b[0m         )\n\u001b[1;32m    492\u001b[0m \u001b[0;34m\u001b[0m\u001b[0m\n",
      "\u001b[0;32m/Library/Frameworks/Python.framework/Versions/3.7/lib/python3.7/site-packages/pandas/io/sql.py\u001b[0m in \u001b[0;36mread_query\u001b[0;34m(self, sql, index_col, coerce_float, params, parse_dates, chunksize)\u001b[0m\n\u001b[1;32m   1741\u001b[0m \u001b[0;34m\u001b[0m\u001b[0m\n\u001b[1;32m   1742\u001b[0m         \u001b[0margs\u001b[0m \u001b[0;34m=\u001b[0m \u001b[0m_convert_params\u001b[0m\u001b[0;34m(\u001b[0m\u001b[0msql\u001b[0m\u001b[0;34m,\u001b[0m \u001b[0mparams\u001b[0m\u001b[0;34m)\u001b[0m\u001b[0;34m\u001b[0m\u001b[0;34m\u001b[0m\u001b[0m\n\u001b[0;32m-> 1743\u001b[0;31m         \u001b[0mcursor\u001b[0m \u001b[0;34m=\u001b[0m \u001b[0mself\u001b[0m\u001b[0;34m.\u001b[0m\u001b[0mexecute\u001b[0m\u001b[0;34m(\u001b[0m\u001b[0;34m*\u001b[0m\u001b[0margs\u001b[0m\u001b[0;34m)\u001b[0m\u001b[0;34m\u001b[0m\u001b[0;34m\u001b[0m\u001b[0m\n\u001b[0m\u001b[1;32m   1744\u001b[0m         \u001b[0mcolumns\u001b[0m \u001b[0;34m=\u001b[0m \u001b[0;34m[\u001b[0m\u001b[0mcol_desc\u001b[0m\u001b[0;34m[\u001b[0m\u001b[0;36m0\u001b[0m\u001b[0;34m]\u001b[0m \u001b[0;32mfor\u001b[0m \u001b[0mcol_desc\u001b[0m \u001b[0;32min\u001b[0m \u001b[0mcursor\u001b[0m\u001b[0;34m.\u001b[0m\u001b[0mdescription\u001b[0m\u001b[0;34m]\u001b[0m\u001b[0;34m\u001b[0m\u001b[0;34m\u001b[0m\u001b[0m\n\u001b[1;32m   1745\u001b[0m \u001b[0;34m\u001b[0m\u001b[0m\n",
      "\u001b[0;32m/Library/Frameworks/Python.framework/Versions/3.7/lib/python3.7/site-packages/pandas/io/sql.py\u001b[0m in \u001b[0;36mexecute\u001b[0;34m(self, *args, **kwargs)\u001b[0m\n\u001b[1;32m   1707\u001b[0m \u001b[0;34m\u001b[0m\u001b[0m\n\u001b[1;32m   1708\u001b[0m             \u001b[0mex\u001b[0m \u001b[0;34m=\u001b[0m \u001b[0mDatabaseError\u001b[0m\u001b[0;34m(\u001b[0m\u001b[0;34mf\"Execution failed on sql '{args[0]}': {exc}\"\u001b[0m\u001b[0;34m)\u001b[0m\u001b[0;34m\u001b[0m\u001b[0;34m\u001b[0m\u001b[0m\n\u001b[0;32m-> 1709\u001b[0;31m             \u001b[0;32mraise\u001b[0m \u001b[0mex\u001b[0m \u001b[0;32mfrom\u001b[0m \u001b[0mexc\u001b[0m\u001b[0;34m\u001b[0m\u001b[0;34m\u001b[0m\u001b[0m\n\u001b[0m\u001b[1;32m   1710\u001b[0m \u001b[0;34m\u001b[0m\u001b[0m\n\u001b[1;32m   1711\u001b[0m     \u001b[0;34m@\u001b[0m\u001b[0mstaticmethod\u001b[0m\u001b[0;34m\u001b[0m\u001b[0;34m\u001b[0m\u001b[0m\n",
      "\u001b[0;31mDatabaseError\u001b[0m: Execution failed on sql 'SELECT author, total_books_sold\n        FROM authors\n        JOIN books\n            USING(book_name)\n            GROUP BY author\n            SUM(copies_sold) as total_books_sold\n            ORDER BY total_books_sold DESC\n            LIMIT 3': near \"SUM\": syntax error"
     ]
    }
   ],
   "source": [
    "q = \"\"\"SELECT author, total_books_sold\n",
    "        FROM authors\n",
    "        JOIN books\n",
    "            USING(book_name)\n",
    "            GROUP BY author\n",
    "            SUM(copies_sold) as total_books_sold\n",
    "            ORDER BY total_books_sold DESC\n",
    "            LIMIT 3\"\"\"\n",
    "pd.read_sql(q,cnx)"
   ]
  },
  {
   "cell_type": "markdown",
   "metadata": {},
   "source": [
    "## Question 3\n",
    "\n",
    "From Amazon:\n",
    "\n",
    "Assume you have two tables, `customers` and `orders`. Write a SQL query to select all customers who purchased at least 2 items on two separate days. "
   ]
  },
  {
   "cell_type": "code",
   "execution_count": null,
   "metadata": {},
   "outputs": [],
   "source": [
    "q=\"\"\"SELECT c.customer, COUNT(DISTINCT o.orderDate) as qtyOrderDates\n",
    "        FROM (SELECT c.customer, o.quantity FROM customers AS c\n",
    "            JOIN orders AS o ON c.orderNumber = o.OrderNumber\n",
    "            WHERE o.quantity >1)\n",
    "        WHERE qtyOrderDates >1;\n",
    "            \"\"\""
   ]
  },
  {
   "cell_type": "markdown",
   "metadata": {},
   "source": [
    "## Question 4\n",
    "\n",
    "From Twitter:\n",
    "\n",
    "A company uses 2 data tables, `Employee` and `Department`, to store data about its employees and departments. \n",
    "\n",
    "Table Name: Employee   \n",
    "Attributes:   \n",
    "ID Integer,   \n",
    "NAME String,   \n",
    "SALARY Integer,   \n",
    "DEPT_ID Integer   \n",
    "\n",
    "Table Name: Department   \n",
    "Attributes:   \n",
    "DEPT_ID Integer,   \n",
    "NAME String,   \n",
    "LOCATION String   \n",
    "\n",
    "Write a query to print the respective Department Name and number of employees for all departments in the Department table (even unstaffed ones). \n",
    "\n",
    "Sort your result in descending order of employees per department; if two or more departments have the same number of employees, then sort those departments alphabetically by Department Name."
   ]
  },
  {
   "cell_type": "code",
   "execution_count": null,
   "metadata": {},
   "outputs": [],
   "source": [
    "# Your code here"
   ]
  },
  {
   "cell_type": "markdown",
   "metadata": {},
   "source": [
    "## Summary\n",
    "\n",
    "In this lab, we tested our knowledge of SQL queries against some real-world interview questions!"
   ]
  }
 ],
 "metadata": {
  "kernelspec": {
   "display_name": "Python 3",
   "language": "python",
   "name": "python3"
  },
  "language_info": {
   "codemirror_mode": {
    "name": "ipython",
    "version": 3
   },
   "file_extension": ".py",
   "mimetype": "text/x-python",
   "name": "python",
   "nbconvert_exporter": "python",
   "pygments_lexer": "ipython3",
   "version": "3.7.9"
  }
 },
 "nbformat": 4,
 "nbformat_minor": 2
}
